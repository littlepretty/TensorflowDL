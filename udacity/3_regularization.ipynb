{
 "cells": [
  {
   "cell_type": "markdown",
   "metadata": {
    "colab_type": "text",
    "id": "kR-4eNdK6lYS"
   },
   "source": [
    "Deep Learning\n",
    "=============\n",
    "\n",
    "Assignment 3\n",
    "------------\n",
    "\n",
    "Previously in `2_fullyconnected.ipynb`, you trained a logistic regression and a neural network model.\n",
    "\n",
    "The goal of this assignment is to explore regularization techniques."
   ]
  },
  {
   "cell_type": "code",
   "execution_count": 2,
   "metadata": {
    "cellView": "both",
    "colab": {
     "autoexec": {
      "startup": false,
      "wait_interval": 0
     }
    },
    "colab_type": "code",
    "collapsed": true,
    "id": "JLpLa8Jt7Vu4"
   },
   "outputs": [],
   "source": [
    "# These are all the modules we'll be using later. Make sure you can import them\n",
    "# before proceeding further.\n",
    "from __future__ import print_function\n",
    "import numpy as np\n",
    "import tensorflow as tf\n",
    "from six.moves import cPickle as pickle"
   ]
  },
  {
   "cell_type": "markdown",
   "metadata": {
    "colab_type": "text",
    "id": "1HrCK6e17WzV"
   },
   "source": [
    "First reload the data we generated in _notmist.ipynb_."
   ]
  },
  {
   "cell_type": "code",
   "execution_count": 3,
   "metadata": {
    "cellView": "both",
    "colab": {
     "autoexec": {
      "startup": false,
      "wait_interval": 0
     },
     "output_extras": [
      {
       "item_id": 1
      }
     ]
    },
    "colab_type": "code",
    "collapsed": false,
    "executionInfo": {
     "elapsed": 11777,
     "status": "ok",
     "timestamp": 1449849322348,
     "user": {
      "color": "",
      "displayName": "",
      "isAnonymous": false,
      "isMe": true,
      "permissionId": "",
      "photoUrl": "",
      "sessionId": "0",
      "userId": ""
     },
     "user_tz": 480
    },
    "id": "y3-cj1bpmuxc",
    "outputId": "e03576f1-ebbe-4838-c388-f1777bcc9873"
   },
   "outputs": [
    {
     "name": "stdout",
     "output_type": "stream",
     "text": [
      "Training set (200000, 28, 28) (200000,)\n",
      "Validation set (10000, 28, 28) (10000,)\n",
      "Test set (10000, 28, 28) (10000,)\n"
     ]
    }
   ],
   "source": [
    "pickle_file = 'notMNIST.pickle'\n",
    "\n",
    "with open(pickle_file, 'rb') as f:\n",
    "  save = pickle.load(f)\n",
    "  train_dataset = save['train_dataset']\n",
    "  train_labels = save['train_labels']\n",
    "  valid_dataset = save['valid_dataset']\n",
    "  valid_labels = save['valid_labels']\n",
    "  test_dataset = save['test_dataset']\n",
    "  test_labels = save['test_labels']\n",
    "  del save  # hint to help gc free up memory\n",
    "  print('Training set', train_dataset.shape, train_labels.shape)\n",
    "  print('Validation set', valid_dataset.shape, valid_labels.shape)\n",
    "  print('Test set', test_dataset.shape, test_labels.shape)"
   ]
  },
  {
   "cell_type": "markdown",
   "metadata": {
    "colab_type": "text",
    "id": "L7aHrm6nGDMB"
   },
   "source": [
    "Reformat into a shape that's more adapted to the models we're going to train:\n",
    "- data as a flat matrix,\n",
    "- labels as float 1-hot encodings."
   ]
  },
  {
   "cell_type": "code",
   "execution_count": 4,
   "metadata": {
    "cellView": "both",
    "colab": {
     "autoexec": {
      "startup": false,
      "wait_interval": 0
     },
     "output_extras": [
      {
       "item_id": 1
      }
     ]
    },
    "colab_type": "code",
    "collapsed": false,
    "executionInfo": {
     "elapsed": 11728,
     "status": "ok",
     "timestamp": 1449849322356,
     "user": {
      "color": "",
      "displayName": "",
      "isAnonymous": false,
      "isMe": true,
      "permissionId": "",
      "photoUrl": "",
      "sessionId": "0",
      "userId": ""
     },
     "user_tz": 480
    },
    "id": "IRSyYiIIGIzS",
    "outputId": "3f8996ee-3574-4f44-c953-5c8a04636582"
   },
   "outputs": [
    {
     "name": "stdout",
     "output_type": "stream",
     "text": [
      "Training set (200000, 784) (200000, 10)\n",
      "Validation set (10000, 784) (10000, 10)\n",
      "Test set (10000, 784) (10000, 10)\n"
     ]
    }
   ],
   "source": [
    "image_size = 28\n",
    "num_labels = 10\n",
    "\n",
    "def reformat(dataset, labels):\n",
    "  dataset = dataset.reshape((-1, image_size * image_size)).astype(np.float32)\n",
    "  # Map 2 to [0.0, 1.0, 0.0 ...], 3 to [0.0, 0.0, 1.0 ...]\n",
    "  labels = (np.arange(num_labels) == labels[:,None]).astype(np.float32)\n",
    "  return dataset, labels\n",
    "train_dataset, train_labels = reformat(train_dataset, train_labels)\n",
    "valid_dataset, valid_labels = reformat(valid_dataset, valid_labels)\n",
    "test_dataset, test_labels = reformat(test_dataset, test_labels)\n",
    "print('Training set', train_dataset.shape, train_labels.shape)\n",
    "print('Validation set', valid_dataset.shape, valid_labels.shape)\n",
    "print('Test set', test_dataset.shape, test_labels.shape)"
   ]
  },
  {
   "cell_type": "code",
   "execution_count": 5,
   "metadata": {
    "cellView": "both",
    "colab": {
     "autoexec": {
      "startup": false,
      "wait_interval": 0
     }
    },
    "colab_type": "code",
    "collapsed": true,
    "id": "RajPLaL_ZW6w"
   },
   "outputs": [],
   "source": [
    "def accuracy(predictions, labels):\n",
    "  return (100.0 * np.sum(np.argmax(predictions, 1) == np.argmax(labels, 1))\n",
    "          / predictions.shape[0])"
   ]
  },
  {
   "cell_type": "markdown",
   "metadata": {
    "colab_type": "text",
    "id": "sgLbUAQ1CW-1"
   },
   "source": [
    "---\n",
    "Problem 1\n",
    "---------\n",
    "\n",
    "Introduce and tune L2 regularization for both logistic and neural network models. Remember that L2 amounts to adding a penalty on the norm of the weights to the loss. In TensorFlow, you can compute the L2 loss for a tensor `t` using `nn.l2_loss(t)`. The right amount of regularization should improve your validation / test accuracy.\n",
    "\n",
    "---"
   ]
  },
  {
   "cell_type": "code",
   "execution_count": 15,
   "metadata": {
    "collapsed": false
   },
   "outputs": [
    {
     "name": "stdout",
     "output_type": "stream",
     "text": [
      "Model constructed\n"
     ]
    }
   ],
   "source": [
    "batch_size = 128\n",
    "\n",
    "graph = tf.Graph()\n",
    "hidden_units = 1024 # number of hidden units\n",
    "with graph.as_default():\n",
    "    \"\"\"Input data\"\"\"\n",
    "    # use placeholder to train with SGD\n",
    "    tf_train_dataset = tf.placeholder(tf.float32,\n",
    "                                     shape=(batch_size, image_size * image_size))\n",
    "    tf_train_labels = tf.placeholder(tf.float32, shape=(batch_size, num_labels))\n",
    "    tf_valid_dataset = tf.constant(valid_dataset)\n",
    "    tf_test_dataset = tf.constant(test_dataset)\n",
    "    \n",
    "    \"\"\"Variables, parameters need to learn\"\"\"\n",
    "    # first layer's parameters\n",
    "    weights_h = tf.Variable(tf.truncated_normal([image_size * image_size, hidden_units]))\n",
    "    biases_h = tf.Variable(tf.zeros([hidden_units]))\n",
    "    # second layer's parameters\n",
    "    weights_o = tf.Variable(tf.truncated_normal([hidden_units, num_labels]))\n",
    "    biases_o = tf.Variable(tf.zeros([num_labels]))\n",
    "    \n",
    "    \"\"\"Model, logistic => activation => logistic\"\"\"\n",
    "    hidden = tf.nn.relu(tf.matmul(tf_train_dataset, weights_h) + biases_h)\n",
    "    logits = tf.matmul(hidden, weights_o) + biases_o\n",
    "    \n",
    "    loss = tf.reduce_mean(tf.nn.softmax_cross_entropy_with_logits(logits, tf_train_labels))\n",
    "    \"\"\"Regularization with tf.nn.l2_loss\"\"\"\n",
    "    beta = 0.002\n",
    "    reg_weights = beta * (tf.nn.l2_loss(weights_h) + tf.nn.l2_loss(weights_o))\n",
    "    new_loss = tf.add(loss, reg_weights)\n",
    "    \"\"\"Optimizer, minimize regularized loss\"\"\"\n",
    "    optimizer = tf.train.GradientDescentOptimizer(0.5).minimize(new_loss)\n",
    "    \n",
    "    \"\"\"Prediction for train, validation and test\"\"\"\n",
    "    train_predict = tf.nn.softmax(logits)\n",
    "    \n",
    "    valid_hidden = tf.nn.relu(tf.matmul(tf_valid_dataset, weights_h) + biases_h)\n",
    "    valid_predict = tf.nn.softmax(tf.matmul(valid_hidden, weights_o) + biases_o)\n",
    "    \n",
    "    test_hidden = tf.nn.relu(tf.matmul(tf_test_dataset, weights_h) + biases_h)\n",
    "    test_predict = tf.nn.softmax(tf.matmul(test_hidden, weights_o) + biases_o)\n",
    "\n",
    "    print(\"Model with Regularization constructed\")"
   ]
  },
  {
   "cell_type": "code",
   "execution_count": 16,
   "metadata": {
    "collapsed": false
   },
   "outputs": [
    {
     "name": "stdout",
     "output_type": "stream",
     "text": [
      "Initialized\n",
      "Minibatch loss at step 0: 301.078949\n",
      "Minibatch train accuracy: 10.156250%\n",
      "Minibatch validation accuracy: 24.340000%\n",
      "Minibatch loss at step 500: 7.107190\n",
      "Minibatch train accuracy: 78.125000%\n",
      "Minibatch validation accuracy: 80.770000%\n",
      "Minibatch loss at step 1000: 1.445791\n",
      "Minibatch train accuracy: 75.000000%\n",
      "Minibatch validation accuracy: 82.780000%\n",
      "Minibatch loss at step 1500: 0.461881\n",
      "Minibatch train accuracy: 87.500000%\n",
      "Minibatch validation accuracy: 85.930000%\n",
      "Minibatch loss at step 2000: 0.491239\n",
      "Minibatch train accuracy: 85.937500%\n",
      "Minibatch validation accuracy: 86.380000%\n",
      "Minibatch loss at step 2500: 0.437739\n",
      "Minibatch train accuracy: 86.718750%\n",
      "Minibatch validation accuracy: 86.620000%\n",
      "Minibatch loss at step 3000: 0.470952\n",
      "Minibatch train accuracy: 87.500000%\n",
      "Minibatch validation accuracy: 86.380000%\n",
      "Minibatch test accuracy: 92.470000%\n"
     ]
    }
   ],
   "source": [
    "num_steps = 3001\n",
    "\n",
    "with tf.Session(graph=graph) as session:\n",
    "    tf.initialize_all_variables().run()\n",
    "    print(\"Initialized\")\n",
    "    for step in range(num_steps):\n",
    "        # boundary of the next batch\n",
    "        offset = (batch_size * step) % (train_labels.shape[0] - batch_size)\n",
    "        # you should really spell 'labels' correctly!\n",
    "        # TF won't report error if you feed it with undefined data(misspelled variable)\n",
    "        batch_data = train_dataset[offset:(offset + batch_size), :]\n",
    "        batch_labels = train_labels[offset:(offset + batch_size), :]\n",
    "        feed_dict = {tf_train_dataset : batch_data, tf_train_labels : batch_labels}\n",
    "        _, l, predictions = session.run([optimizer, loss, train_predict],\n",
    "                                        feed_dict=feed_dict)\n",
    "        if (step % 500 == 0):\n",
    "            print(\"Minibatch loss at step %d: %f\" % (step, l))\n",
    "            print(\"Minibatch train accuracy: %f%%\" % accuracy(predictions, batch_labels))\n",
    "            print(\"Minibatch validation accuracy: %f%%\" % accuracy(valid_predict.eval(), valid_labels))\n",
    "    \n",
    "    print(\"Minibatch test accuracy: %f%%\" % accuracy(test_predict.eval(), test_labels))"
   ]
  },
  {
   "cell_type": "markdown",
   "metadata": {
    "colab_type": "text",
    "id": "na8xX2yHZzNF"
   },
   "source": [
    "---\n",
    "Problem 2\n",
    "---------\n",
    "Let's demonstrate an extreme case of overfitting. Restrict your training data to just a few batches. What happens?\n",
    "\n",
    "#### My Solution:\n",
    "* Just use several batches of the trainning data, e.g. 6 \\* batch_size.\n",
    "* Then the trainning accuaracy will be near 100% but the model cannot predict well on validataion and test.\n",
    "* The accuracy of both dropped below 80% and 87% respectively\n",
    "\n",
    "---"
   ]
  },
  {
   "cell_type": "code",
   "execution_count": 19,
   "metadata": {
    "collapsed": false
   },
   "outputs": [
    {
     "name": "stdout",
     "output_type": "stream",
     "text": [
      "Initialized\n",
      "Minibatch loss at step 0: 329.524963\n",
      "Minibatch train accuracy: 10.937500%\n",
      "Minibatch validation accuracy: 28.640000%\n",
      "Minibatch loss at step 500: 0.000091\n",
      "Minibatch train accuracy: 100.000000%\n",
      "Minibatch validation accuracy: 74.660000%\n",
      "Minibatch loss at step 1000: 0.000322\n",
      "Minibatch train accuracy: 100.000000%\n",
      "Minibatch validation accuracy: 74.870000%\n",
      "Minibatch loss at step 1500: 0.002381\n",
      "Minibatch train accuracy: 100.000000%\n",
      "Minibatch validation accuracy: 75.740000%\n",
      "Minibatch loss at step 2000: 0.007639\n",
      "Minibatch train accuracy: 100.000000%\n",
      "Minibatch validation accuracy: 77.310000%\n",
      "Minibatch loss at step 2500: 0.014952\n",
      "Minibatch train accuracy: 100.000000%\n",
      "Minibatch validation accuracy: 78.430000%\n",
      "Minibatch loss at step 3000: 0.018154\n",
      "Minibatch train accuracy: 100.000000%\n",
      "Minibatch validation accuracy: 78.640000%\n",
      "Minibatch test accuracy: 86.140000%\n"
     ]
    }
   ],
   "source": [
    "num_steps = 3001\n",
    "truncated_size = 6 * batch_size\n",
    "with tf.Session(graph=graph) as session:\n",
    "    tf.initialize_all_variables().run()\n",
    "    print(\"Initialized\")\n",
    "    for step in range(num_steps):\n",
    "        # boundary of the next batch\n",
    "        offset = (batch_size * step) % (truncated_size - batch_size)\n",
    "        # you should really spell 'labels' correctly!\n",
    "        # TF won't report error if you feed it with undefined data(misspelled variable)\n",
    "        batch_data = train_dataset[offset:(offset + batch_size), :]\n",
    "        batch_labels = train_labels[offset:(offset + batch_size), :]\n",
    "        feed_dict = {tf_train_dataset : batch_data, tf_train_labels : batch_labels}\n",
    "        _, l, predictions = session.run([optimizer, loss, train_predict],\n",
    "                                        feed_dict=feed_dict)\n",
    "        if (step % 500 == 0):\n",
    "            print(\"Minibatch loss at step %d: %f\" % (step, l))\n",
    "            print(\"Minibatch train accuracy: %f%%\" % accuracy(predictions, batch_labels))\n",
    "            print(\"Minibatch validation accuracy: %f%%\" % accuracy(valid_predict.eval(), valid_labels))\n",
    "    \n",
    "    print(\"Minibatch test accuracy: %f%%\" % accuracy(test_predict.eval(), test_labels))"
   ]
  },
  {
   "cell_type": "markdown",
   "metadata": {
    "colab_type": "text",
    "id": "ww3SCBUdlkRc"
   },
   "source": [
    "---\n",
    "Problem 3\n",
    "---------\n",
    "Introduce Dropout on the hidden layer of the neural network. Remember: Dropout should only be introduced during training, not evaluation, otherwise your evaluation results would be stochastic as well. TensorFlow provides `nn.dropout()` for that, but you have to make sure it's only inserted during training.\n",
    "\n",
    "What happens to our extreme overfitting case?\n",
    "\n",
    "---"
   ]
  },
  {
   "cell_type": "code",
   "execution_count": 26,
   "metadata": {
    "collapsed": false
   },
   "outputs": [
    {
     "name": "stdout",
     "output_type": "stream",
     "text": [
      "Model with Dropout + Regularization constructed\n"
     ]
    }
   ],
   "source": [
    "batch_size = 128\n",
    "\n",
    "graph = tf.Graph()\n",
    "hidden_units = 1024 # number of hidden units\n",
    "with graph.as_default():\n",
    "    \"\"\"Input data\"\"\"\n",
    "    # use placeholder to train with SGD\n",
    "    tf_train_dataset = tf.placeholder(tf.float32,\n",
    "                                     shape=(batch_size, image_size * image_size))\n",
    "    tf_train_labels = tf.placeholder(tf.float32, shape=(batch_size, num_labels))\n",
    "    tf_valid_dataset = tf.constant(valid_dataset)\n",
    "    tf_test_dataset = tf.constant(test_dataset)\n",
    "    \n",
    "    \"\"\"Variables, parameters need to learn\"\"\"\n",
    "    # first layer's parameters\n",
    "    weights_h = tf.Variable(tf.truncated_normal([image_size * image_size, hidden_units]))\n",
    "    biases_h = tf.Variable(tf.zeros([hidden_units]))\n",
    "    # second layer's parameters\n",
    "    weights_o = tf.Variable(tf.truncated_normal([hidden_units, num_labels]))\n",
    "    biases_o = tf.Variable(tf.zeros([num_labels]))\n",
    "    \n",
    "    \"\"\"Model, logistic => activation => dropout => logistic\"\"\"\n",
    "    hidden = tf.nn.relu(tf.matmul(tf_train_dataset, weights_h) + biases_h)\n",
    "    dropout = tf.nn.dropout(hidden, 0.5)\n",
    "    logits = tf.matmul(dropout, weights_o) + biases_o\n",
    "    \n",
    "    loss = tf.reduce_mean(tf.nn.softmax_cross_entropy_with_logits(logits, tf_train_labels))\n",
    "    \"\"\"Regularization with tf.nn.l2_loss\"\"\"\n",
    "    beta = 0.002\n",
    "    reg_weights = beta * (tf.nn.l2_loss(weights_h) + tf.nn.l2_loss(weights_o))\n",
    "    new_loss = tf.add(loss, reg_weights)\n",
    "    \"\"\"Optimizer, minimize regularized loss\"\"\"\n",
    "    optimizer = tf.train.GradientDescentOptimizer(0.5).minimize(new_loss)\n",
    "    \n",
    "    \"\"\"Prediction for train, validation and test\"\"\"\n",
    "    train_predict = tf.nn.softmax(logits)\n",
    "    \n",
    "    valid_hidden = tf.nn.relu(tf.matmul(tf_valid_dataset, weights_h) + biases_h)\n",
    "    valid_predict = tf.nn.softmax(tf.matmul(valid_hidden, weights_o) + biases_o)\n",
    "    \n",
    "    test_hidden = tf.nn.relu(tf.matmul(tf_test_dataset, weights_h) + biases_h)\n",
    "    test_predict = tf.nn.softmax(tf.matmul(test_hidden, weights_o) + biases_o)\n",
    "\n",
    "    print(\"Model with Dropout + Regularization constructed\")"
   ]
  },
  {
   "cell_type": "code",
   "execution_count": 28,
   "metadata": {
    "collapsed": false
   },
   "outputs": [
    {
     "name": "stdout",
     "output_type": "stream",
     "text": [
      "Initialized\n",
      "Minibatch loss at step 0: 429.060974\n",
      "Minibatch train accuracy: 16.406250%\n",
      "Minibatch validation accuracy: 26.510000%\n",
      "Minibatch loss at step 500: 18.558622\n",
      "Minibatch train accuracy: 67.187500%\n",
      "Minibatch validation accuracy: 80.820000%\n",
      "Minibatch loss at step 1000: 2.196811\n",
      "Minibatch train accuracy: 70.312500%\n",
      "Minibatch validation accuracy: 81.330000%\n",
      "Minibatch test accuracy: 88.340000%\n"
     ]
    }
   ],
   "source": [
    "num_steps = 1001\n",
    "\n",
    "with tf.Session(graph=graph) as session:\n",
    "    tf.initialize_all_variables().run()\n",
    "    print(\"Initialized\")\n",
    "    for step in range(num_steps):\n",
    "        # boundary of the next batch\n",
    "        offset = (batch_size * step) % (train_labels.shape[0] - batch_size)\n",
    "        # you should really spell 'labels' correctly!\n",
    "        # TF won't report error if you feed it with undefined data(misspelled variable)\n",
    "        batch_data = train_dataset[offset:(offset + batch_size), :]\n",
    "        batch_labels = train_labels[offset:(offset + batch_size), :]\n",
    "        feed_dict = {tf_train_dataset : batch_data, tf_train_labels : batch_labels}\n",
    "        _, l, predictions = session.run([optimizer, loss, train_predict],\n",
    "                                        feed_dict=feed_dict)\n",
    "        if (step % 500 == 0):\n",
    "            print(\"Minibatch loss at step %d: %f\" % (step, l))\n",
    "            print(\"Minibatch train accuracy: %f%%\" % accuracy(predictions, batch_labels))\n",
    "            print(\"Minibatch validation accuracy: %f%%\" % accuracy(valid_predict.eval(), valid_labels))\n",
    "    \n",
    "    print(\"Minibatch test accuracy: %f%%\" % accuracy(test_predict.eval(), test_labels))"
   ]
  },
  {
   "cell_type": "markdown",
   "metadata": {
    "colab_type": "text",
    "id": "-b1hTz3VWZjw"
   },
   "source": [
    "---\n",
    "Problem 4\n",
    "---------\n",
    "\n",
    "Try to get the best performance you can using a multi-layer model! The best reported test accuracy using a deep network is [97.1%](http://yaroslavvb.blogspot.com/2011/09/notmnist-dataset.html?showComment=1391023266211#c8758720086795711595).\n",
    "\n",
    "One avenue you can explore is to add multiple layers.\n",
    "\n",
    "---\n"
   ]
  },
  {
   "cell_type": "code",
   "execution_count": 71,
   "metadata": {
    "collapsed": false
   },
   "outputs": [
    {
     "name": "stdout",
     "output_type": "stream",
     "text": [
      "3 Layer Model constructed\n"
     ]
    }
   ],
   "source": [
    "batch_size = 128\n",
    "feature_size = image_size * image_size\n",
    "\n",
    "init_learing_rate = 0.3\n",
    "decay_steps = 4000\n",
    "decay_base = 0.84\n",
    "hidden_units1 = 1024\n",
    "hidden_units2 = 128\n",
    "\n",
    "graph = tf.Graph()\n",
    "with graph.as_default():\n",
    "    tf_train_dataset = tf.placeholder(tf.float32,\n",
    "                                     shape=(batch_size, image_size * image_size))\n",
    "    tf_train_labels = tf.placeholder(tf.float32, shape=(batch_size, num_labels))\n",
    "    tf_valid_dataset = tf.constant(valid_dataset)\n",
    "    tf_test_dataset = tf.constant(test_dataset)\n",
    "    \n",
    "    keep_prob = tf.placeholder(tf.float32, shape=None)\n",
    "    \n",
    "    W1 = tf.Variable(tf.truncated_normal([feature_size, hidden_units1], stddev=0.02))\n",
    "    b1 = tf.Variable(tf.zeros([hidden_units1]))\n",
    "    W2 = tf.Variable(tf.truncated_normal([hidden_units1, hidden_units1], stddev=0.01))\n",
    "    b2 = tf.Variable(tf.zeros([hidden_units1]))\n",
    "    W3 = tf.Variable(tf.truncated_normal([hidden_units1, hidden_units2], stddev=0.01))\n",
    "    b3 = tf.Variable(tf.zeros([hidden_units2]))\n",
    "    W4 = tf.Variable(tf.truncated_normal([hidden_units2, num_labels], stddev=0.02))\n",
    "    b4 = tf.Variable(tf.zeros([num_labels]))\n",
    "\n",
    "    def getThreeLayerNN(data_set):\n",
    "        \"\"\"Return a 3 layer logistic model\"\"\"\n",
    "        l1 = tf.matmul(data_set, W1) + b1\n",
    "        hidden1 = tf.nn.relu(l1)\n",
    "        dropout1 = tf.nn.dropout(hidden1, keep_prob)\n",
    "        l2 = tf.matmul(dropout1, W2) + b2\n",
    "        hidden2 = tf.nn.relu(l2)\n",
    "        dropout2 = tf.nn.dropout(hidden2, keep_prob)\n",
    "        l3 = tf.matmul(dropout2, W3) + b3\n",
    "        hidden3 = tf.nn.relu(l3)\n",
    "        dropout3 = tf.nn.dropout(l3, keep_prob)\n",
    "        l4 = tf.matmul(dropout3, W4) + b4\n",
    "        return l4\n",
    "    \n",
    "    model = getThreeLayerNN(tf_train_dataset)\n",
    "    # regularizing loss function\n",
    "    loss = tf.reduce_mean(tf.nn.softmax_cross_entropy_with_logits(model, tf_train_labels))\n",
    "    use_regularization=True\n",
    "    beta=0.002\n",
    "    if use_regularization:\n",
    "        reg_weights = tf.add(tf.nn.l2_loss(W1), tf.nn.l2_loss(W2))\n",
    "        reg_weights = beta * tf.add(reg_weights, tf.nn.l2_loss(W3))\n",
    "        loss = tf.add(loss, reg_weights)\n",
    "    \n",
    "    # exponentially decaying learing rate\n",
    "    global_step = tf.Variable(0, trainable=False)\n",
    "    learning_rate = tf.train.exponential_decay(init_learing_rate, global_step,\n",
    "                                               decay_steps, decay_base,\n",
    "                                               staircase=True)\n",
    "    # notice that here optimizer's minimize function will help us increment global step\n",
    "    optimizer = tf.train.GradientDescentOptimizer(learning_rate).minimize(loss, global_step=global_step)\n",
    "        \n",
    "    train_predict = tf.nn.softmax(model)\n",
    "    valid_predict = tf.nn.softmax(getThreeLayerNN(tf_valid_dataset))\n",
    "    test_predict = tf.nn.softmax(getThreeLayerNN(tf_test_dataset))\n",
    "    \n",
    "    print(\"3 Layer Model constructed\")"
   ]
  },
  {
   "cell_type": "markdown",
   "metadata": {},
   "source": [
    "Another one is to use learning rate decay:\n",
    "```\n",
    "global_step = tf.Variable(0)  # count the number of steps taken.\n",
    "learning_rate = tf.train.exponential_decay(0.5, global_step, ...)\n",
    "optimizer = tf.train.GradientDescentOptimizer(learning_rate).minimize(loss, global_step=global_step)\n",
    "```"
   ]
  },
  {
   "cell_type": "code",
   "execution_count": 72,
   "metadata": {
    "collapsed": false
   },
   "outputs": [
    {
     "name": "stdout",
     "output_type": "stream",
     "text": [
      "Initialized\n",
      "Minibatch loss at step 0: 2.641998\n",
      "Minibatch train accuracy: 9.375000%\n",
      "Minibatch validation accuracy: 10.410000%\n",
      "Minibatch loss at step 2000: 0.599047\n",
      "Minibatch train accuracy: 84.375000%\n",
      "Minibatch validation accuracy: 87.150000%\n",
      "Minibatch loss at step 4000: 0.588185\n",
      "Minibatch train accuracy: 88.281250%\n",
      "Minibatch validation accuracy: 88.080000%\n",
      "Minibatch loss at step 6000: 0.516972\n",
      "Minibatch train accuracy: 89.843750%\n",
      "Minibatch validation accuracy: 87.810000%\n",
      "Minibatch loss at step 8000: 0.442850\n",
      "Minibatch train accuracy: 91.406250%\n",
      "Minibatch validation accuracy: 87.750000%\n",
      "Minibatch loss at step 10000: 0.598515\n",
      "Minibatch train accuracy: 85.937500%\n",
      "Minibatch validation accuracy: 89.230000%\n",
      "Minibatch test accuracy: 94.350000%\n"
     ]
    }
   ],
   "source": [
    "num_steps = 10001\n",
    "\n",
    "with tf.Session(graph=graph) as session:\n",
    "    tf.initialize_all_variables().run()\n",
    "    print(\"Initialized\")\n",
    "    for step in range(num_steps):\n",
    "        offset = (batch_size * step) % (train_labels.shape[0] - batch_size)\n",
    "        batch_data = train_dataset[offset:(offset + batch_size), :]\n",
    "        batch_labels = train_labels[offset:(offset + batch_size), :]\n",
    "        feed_dict = {tf_train_dataset : batch_data,\n",
    "                     tf_train_labels : batch_labels,\n",
    "                     keep_prob : 0.8}\n",
    "        _, l, train_predictions = session.run([optimizer, loss, train_predict],\n",
    "                                        feed_dict=feed_dict)\n",
    "        if (step % 2000 == 0):\n",
    "            print(\"Minibatch loss at step %d: %f\" % (step, l))\n",
    "            print(\"Minibatch train accuracy: %f%%\" % accuracy(train_predictions, batch_labels))\n",
    "\n",
    "            feed_dict = {tf_valid_dataset : valid_dataset,\n",
    "                         keep_prob : 1.0}\n",
    "            print(\"Minibatch validation accuracy: %f%%\" %\n",
    "                  accuracy(valid_predict.eval(feed_dict=feed_dict), valid_labels))\n",
    "            \n",
    "    feed_dict = {tf_test_dataset : test_dataset, keep_prob : 1.0}\n",
    "    print(\"Minibatch test accuracy: %f%%\" %\n",
    "          accuracy(test_predict.eval(feed_dict=feed_dict), test_labels))"
   ]
  },
  {
   "cell_type": "code",
   "execution_count": null,
   "metadata": {
    "collapsed": true
   },
   "outputs": [],
   "source": []
  }
 ],
 "metadata": {
  "colab": {
   "default_view": {},
   "name": "3_regularization.ipynb",
   "provenance": [],
   "version": "0.3.2",
   "views": {}
  },
  "kernelspec": {
   "display_name": "Python 2",
   "language": "python",
   "name": "python2"
  },
  "language_info": {
   "codemirror_mode": {
    "name": "ipython",
    "version": 2
   },
   "file_extension": ".py",
   "mimetype": "text/x-python",
   "name": "python",
   "nbconvert_exporter": "python",
   "pygments_lexer": "ipython2",
   "version": "2.7.12"
  }
 },
 "nbformat": 4,
 "nbformat_minor": 0
}
